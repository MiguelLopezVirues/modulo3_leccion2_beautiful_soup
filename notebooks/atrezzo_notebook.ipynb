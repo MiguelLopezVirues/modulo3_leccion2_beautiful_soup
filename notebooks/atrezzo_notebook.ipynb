{
 "cells": [
  {
   "cell_type": "markdown",
   "metadata": {},
   "source": [
    "<div style=\"text-align: center;\">\n",
    "  <img src=\"https://github.com/Hack-io-Data/Imagenes/blob/main/01-LogosHackio/logo_naranja@4x.png?raw=true\" alt=\"esquema\" />\n",
    "</div>"
   ]
  },
  {
   "cell_type": "markdown",
   "metadata": {},
   "source": [
    "## Contexto\n",
    "\n",
    "**Descripción:**\n",
    "\n",
    "SetMagic Productions es una empresa especializada en la provisión de servicios integrales para la realización de rodajes cinematográficos y audiovisuales. Nos dedicamos a facilitar tanto el atrezzo necesario para las producciones como los lugares idóneos para llevar a cabo los rodajes, ya sea en entornos al aire libre o en interiores.\n",
    "\n",
    "**Servicios Ofrecidos:**\n",
    "\n",
    "- **Atrezzo Creativo:** Contamos con un extenso catálogo de atrezzo que abarca desde accesorios hasta muebles y objetos temáticos para ambientar cualquier tipo de  escena.\n",
    "\n",
    "- **Locaciones Únicas:** Nuestra empresa ofrece una amplia selección de locaciones, que incluyen desde escenarios naturales como playas, bosques y montañas, hasta espacios interiores como estudios, casas históricas y edificios emblemáticos.\n",
    "- **Servicios de Producción:** Además de proporcionar atrezzo y locaciones, también ofrecemos servicios de producción audiovisual, incluyendo equipos de filmación, personal técnico y servicios de postproducción.\n",
    "\n",
    "**Herramientas y Tecnologías:**\n",
    "\n",
    "Para recopilar información sobre nuevas locaciones y tendencias en atrezzo, utilizamos herramientas de web scraping como Beautiful Soup y Selenium para extraer datos de sitios web relevantes y redes sociales especializadas en cine y producción audiovisual. También integramos APIs de plataformas de alquiler de locaciones y bases de datos de atrezzo para acceder a información actualizada y detallada.\n",
    "\n",
    "**Almacenamiento de Datos:** (A trabajar la próxima semana)\n",
    "\n",
    "La información recopilada mediante web scraping y APIs se almacenará tanto en una base de datos relacional SQL como en una base de datos no relacional MongoDB . Estas base de datos nos permite organizar eficientemente la información sobre locaciones, atrezzo, clientes y proyectos en curso, facilitando su acceso y gestión.\n",
    "\n",
    "**Objetivo:**\n",
    "\n",
    "Nuestro objetivo principal es proporcionar a nuestros clientes una experiencia fluida y personalizada en la búsqueda y selección de locaciones y atrezzo para sus proyectos audiovisuales. Utilizando tecnologías avanzadas y una amplia red de contactos en la industria, nos esforzamos por ofrecer soluciones creativas y de alta calidad que satisfagan las necesidades específicas de cada producción.\n",
    "\n",
    "\n",
    "## Lab: Extracción de Información con Beautiful Soup\n",
    "\n",
    "En este laboratorio seguirás enriqueciendo la base de datos para ofrecer a tus clientes un servicio más completo y personalizado. Para lograr esto, extraerás información valiosa sobre objetos de atrezzo de una web especializada. Utilizarás técnicas de web scraping con la biblioteca **Beautiful Soup** para obtener y organizar los datos de manera eficiente.\n",
    "\n",
    "Trabajarás con la siguiente URL: [Atrezzo Vázquez](https://atrezzovazquez.es/shop.php?search_type=-1&search_terms=&limit=48&page=1). Esta página contiene una gran cantidad de objetos de atrezzo que pueden ser de interés para un proyecto de rodaje. Tu tarea será extraer información relevante de los productos listados en las primeras 100 páginas.\n",
    "\n",
    "1. **Navegación y Extracción de Múltiples Páginas**:\n",
    "\n",
    "   - La página web contiene varios elementos distribuidos en distintas páginas. Tu objetivo será iterar a través de las 100 primeras páginas y extraer la información deseada.\n",
    "\n",
    "   - Debes asegurarte de que tu código sea capaz de navegar automáticamente por estas páginas y extraer datos de manera continua.\n",
    "\n",
    "2. **Verificación del Código de Estado de la Respuesta**:\n",
    "\n",
    "   - Antes de extraer cualquier información, es fundamental verificar que la solicitud a la página web ha sido exitosa. Un código de estado 200 indica que la página se ha cargado correctamente.\n",
    "\n",
    "   - Si el código no es 200, debes imprimir un mensaje de error y detener la ejecución de la extracción para evitar problemas posteriores.\n",
    "\n",
    "3. **Extracción de Información Específica**:\n",
    "\n",
    "   De cada página, deberás extraer los siguientes detalles de los objetos de atrezzo:\n",
    "\n",
    "   - **Nombre del Objeto**: El nombre o identificador del objeto.\n",
    "\n",
    "   - **Categoría**: La categoría en la que se clasifica el objeto (ej.: mobiliario, decorado, utilería, etc.).\n",
    "\n",
    "   - **Sección**: La sección específica dentro de la categoría.\n",
    "\n",
    "   - **Descripción**: Una breve descripción del objeto que puede incluir detalles sobre su estilo, material o uso.\n",
    "\n",
    "   - **Dimensiones**: El tamaño del objeto en formato (largo x ancho x alto).\n",
    "\n",
    "   - **Enlace a la Imagen**: El link a la imagen del objeto, útil para tener una vista previa visual.\n",
    "\n",
    "4. **Organización de los Datos en un Diccionario**:\n",
    "\n",
    "   Una vez extraída la información, deberás organizarla en un diccionario con las siguientes claves:\n",
    "\n",
    "   - `\"nombre\"`: Nombres del objeto.\n",
    "\n",
    "   - `\"categoria\"`: Categoría a la que pertenece el objeto.\n",
    "\n",
    "   - `\"seccion\"`: Sección específica dentro de la categoría.\n",
    "\n",
    "   - `\"descripcion\"`: Breve descripción del objeto.\n",
    "\n",
    "   - `\"dimensiones\"`: Dimensiones del objeto en el formato adecuado.\n",
    "\n",
    "   - `\"imagen\"`: URL de la imagen del objeto.\n",
    "\n",
    "5. **Almacenamiento de la Información en un DataFrame**:\n",
    "\n",
    "   Una vez que tengas toda la información organizada en diccionarios, el siguiente paso es convertirla en un DataFrame de Pandas. Este DataFrame te permitirá manipular y analizar los datos con facilidad. Tu DataFrame debería verse similar al ejemplo proporcionado, donde cada fila representa un objeto diferente y cada columna contiene la información extraída:\n",
    "\n",
    "![Dataframe](https://github.com/Hack-io-Data/Imagenes/blob/main/02-Imagenes/BS/df_atrezzo.png?raw=true)\n",
    "\n",
    "\n",
    "6.  Consideraciones Adicionales:\n",
    "\n",
    "- Asegúrate de manejar posibles errores o excepciones durante el scraping, como tiempos de espera agotados, páginas inaccesibles o datos faltantes.\n",
    "\n",
    "- Recuerda que el scraping debe hacerse de manera respetuosa, evitando sobrecargar el servidor de la página web (puedes usar pausas entre solicitudes).\n",
    "\n",
    "- Finalmente, asegúrate de almacenar el DataFrame en un archivo CSV para que puedas reutilizar esta información en análisis futuros.\n"
   ]
  },
  {
   "cell_type": "code",
   "execution_count": 1,
   "metadata": {},
   "outputs": [],
   "source": [
    "from bs4 import BeautifulSoup\n",
    "import requests \n",
    "import pandas as pd\n",
    "import numpy as np\n",
    "import random\n",
    "import time\n",
    "import sys \n",
    "\n",
    "sys.path.append(\"..\")\n",
    "from src.atrezzo_support import extract_atrezzo"
   ]
  },
  {
   "cell_type": "code",
   "execution_count": 2,
   "metadata": {},
   "outputs": [
    {
     "name": "stdout",
     "output_type": "stream",
     "text": [
      "200\n"
     ]
    }
   ],
   "source": [
    "url = \"https://atrezzovazquez.es/shop.php?search_type=-1&search_terms=&limit=48&page=1\"\n",
    "\n",
    "response = requests.get(url)\n",
    "print(response.status_code)\n",
    "response_html = BeautifulSoup(response.content,\"html.parser\")"
   ]
  },
  {
   "cell_type": "markdown",
   "metadata": {},
   "source": [
    "Testing the most basic function:"
   ]
  },
  {
   "cell_type": "code",
   "execution_count": 3,
   "metadata": {},
   "outputs": [
    {
     "data": {
      "text/plain": [
       "{'name': 'ALF1',\n",
       " 'category': 'Alfombra',\n",
       " 'section': 'Arabe',\n",
       " 'description': 'Alfombra persa marrón (tiene unas manchas que no se quitan).',\n",
       " 'dimensions': '460x340x1 (cm)',\n",
       " 'image': 'admin/img_prod/ALF1/ALF1-720x540.png'}"
      ]
     },
     "execution_count": 3,
     "metadata": {},
     "output_type": "execute_result"
    }
   ],
   "source": [
    "elements = response_html.find_all(\"div\",{\"class\":\"col-md-3 col-sm-4 shop-grid-item\"})\n",
    "\n",
    "lista = list()\n",
    "\n",
    "def get_element_info(element):\n",
    "    time.sleep(random.random()*2)\n",
    "    dictionary = dict()\n",
    "    # name\n",
    "    try:\n",
    "        dictionary[\"name\"] = element.find(\"a\", {\"class\", \"title\"}).text.strip()\n",
    "    except:\n",
    "        dictionary[\"name\"] = np.nan\n",
    "\n",
    "    # category\n",
    "    try:\n",
    "        dictionary[\"category\"] = element.find(\"a\", {\"class\", \"tag\"}).text.strip()\n",
    "    except:\n",
    "        dictionary[\"category\"] = np.nan\n",
    "\n",
    "    # section\n",
    "    try:\n",
    "        dictionary[\"section\"] = element.find(\"div\", {\"class\", \"cat-sec\"}).text.strip()\n",
    "    except:\n",
    "        dictionary[\"section\"] = np.nan\n",
    "\n",
    "    # description\n",
    "    try:\n",
    "        dictionary[\"description\"] = element.find(\"p\").text.strip()\n",
    "    except:\n",
    "        dictionary[\"description\"] = np.nan\n",
    "\n",
    "    # dimensions\n",
    "    try:\n",
    "        dictionary[\"dimensions\"] = element.find(\"div\", {\"class\", \"price\"}).find(\"div\").text.strip()\n",
    "    except:\n",
    "        dictionary[\"dimensions\"] = np.nan\n",
    "\n",
    "    # image\n",
    "    try:\n",
    "        dictionary[\"image\"] = element.find(\"div\", {\"class\", \"product-image\"}).find_all(\"img\")[0][\"src\"]\n",
    "    except:\n",
    "        dictionary[\"image\"] = np.nan\n",
    "\n",
    "    return dictionary\n",
    "\n",
    "get_element_info(elements[0])"
   ]
  },
  {
   "cell_type": "markdown",
   "metadata": {},
   "source": [
    "Using the global function:"
   ]
  },
  {
   "cell_type": "code",
   "execution_count": 4,
   "metadata": {},
   "outputs": [
    {
     "name": "stderr",
     "output_type": "stream",
     "text": [
      "  1%|          | 1/100 [00:00<01:14,  1.33it/s]"
     ]
    },
    {
     "name": "stdout",
     "output_type": "stream",
     "text": [
      "Problem with category: 'NoneType' object has no attribute 'text'\n"
     ]
    },
    {
     "name": "stderr",
     "output_type": "stream",
     "text": [
      "  4%|▍         | 4/100 [00:03<01:27,  1.10it/s]"
     ]
    },
    {
     "name": "stdout",
     "output_type": "stream",
     "text": [
      "Problem with category: 'NoneType' object has no attribute 'text'\n"
     ]
    },
    {
     "name": "stderr",
     "output_type": "stream",
     "text": [
      "  6%|▌         | 6/100 [00:05<01:21,  1.16it/s]"
     ]
    },
    {
     "name": "stdout",
     "output_type": "stream",
     "text": [
      "Problem with category: 'NoneType' object has no attribute 'text'\n"
     ]
    },
    {
     "name": "stderr",
     "output_type": "stream",
     "text": [
      "  9%|▉         | 9/100 [00:07<01:14,  1.22it/s]"
     ]
    },
    {
     "name": "stdout",
     "output_type": "stream",
     "text": [
      "Problem with category: 'NoneType' object has no attribute 'text'\n"
     ]
    },
    {
     "name": "stderr",
     "output_type": "stream",
     "text": [
      " 12%|█▏        | 12/100 [00:10<01:12,  1.21it/s]"
     ]
    },
    {
     "name": "stdout",
     "output_type": "stream",
     "text": [
      "Problem with category: 'NoneType' object has no attribute 'text'\n"
     ]
    },
    {
     "name": "stderr",
     "output_type": "stream",
     "text": [
      " 14%|█▍        | 14/100 [00:11<01:10,  1.23it/s]"
     ]
    },
    {
     "name": "stdout",
     "output_type": "stream",
     "text": [
      "Problem with category: 'NoneType' object has no attribute 'text'\n"
     ]
    },
    {
     "name": "stderr",
     "output_type": "stream",
     "text": [
      " 15%|█▌        | 15/100 [00:12<01:04,  1.31it/s]"
     ]
    },
    {
     "name": "stdout",
     "output_type": "stream",
     "text": [
      "Problem with image: list index out of range\n"
     ]
    },
    {
     "name": "stderr",
     "output_type": "stream",
     "text": [
      " 17%|█▋        | 17/100 [00:13<00:59,  1.39it/s]"
     ]
    },
    {
     "name": "stdout",
     "output_type": "stream",
     "text": [
      "Problem with category: 'NoneType' object has no attribute 'text'\n"
     ]
    },
    {
     "name": "stderr",
     "output_type": "stream",
     "text": [
      " 19%|█▉        | 19/100 [00:15<00:58,  1.38it/s]"
     ]
    },
    {
     "name": "stdout",
     "output_type": "stream",
     "text": [
      "Problem with category: 'NoneType' object has no attribute 'text'\n"
     ]
    },
    {
     "name": "stderr",
     "output_type": "stream",
     "text": [
      " 21%|██        | 21/100 [00:16<00:57,  1.38it/s]"
     ]
    },
    {
     "name": "stdout",
     "output_type": "stream",
     "text": [
      "Problem with category: 'NoneType' object has no attribute 'text'\n"
     ]
    },
    {
     "name": "stderr",
     "output_type": "stream",
     "text": [
      "100%|██████████| 100/100 [01:11<00:00,  1.40it/s]\n"
     ]
    }
   ],
   "source": [
    "atrezzo_extract_df = extract_atrezzo(start=1,n_pages=100)"
   ]
  },
  {
   "cell_type": "markdown",
   "metadata": {},
   "source": [
    "Format columns and save:"
   ]
  },
  {
   "cell_type": "code",
   "execution_count": 5,
   "metadata": {},
   "outputs": [
    {
     "data": {
      "text/html": [
       "<div>\n",
       "<style scoped>\n",
       "    .dataframe tbody tr th:only-of-type {\n",
       "        vertical-align: middle;\n",
       "    }\n",
       "\n",
       "    .dataframe tbody tr th {\n",
       "        vertical-align: top;\n",
       "    }\n",
       "\n",
       "    .dataframe thead th {\n",
       "        text-align: right;\n",
       "    }\n",
       "</style>\n",
       "<table border=\"1\" class=\"dataframe\">\n",
       "  <thead>\n",
       "    <tr style=\"text-align: right;\">\n",
       "      <th></th>\n",
       "      <th>name</th>\n",
       "      <th>category</th>\n",
       "      <th>section</th>\n",
       "      <th>description</th>\n",
       "      <th>dimensions</th>\n",
       "      <th>image</th>\n",
       "      <th>page</th>\n",
       "    </tr>\n",
       "  </thead>\n",
       "  <tbody>\n",
       "    <tr>\n",
       "      <th>0</th>\n",
       "      <td>ALF1</td>\n",
       "      <td>Alfombra</td>\n",
       "      <td>Arabe</td>\n",
       "      <td>Alfombra persa marrón (tiene unas manchas que ...</td>\n",
       "      <td>460x340x1 (cm)</td>\n",
       "      <td>admin/img_prod/ALF1/ALF1-720x540.png</td>\n",
       "      <td>1</td>\n",
       "    </tr>\n",
       "    <tr>\n",
       "      <th>1</th>\n",
       "      <td>ADO1</td>\n",
       "      <td>Adornos</td>\n",
       "      <td></td>\n",
       "      <td>Vitrina con abanico</td>\n",
       "      <td>100x10x60 (cm)</td>\n",
       "      <td>admin/img_prod/ADO1/ADO1-720x540.png</td>\n",
       "      <td>1</td>\n",
       "    </tr>\n",
       "    <tr>\n",
       "      <th>2</th>\n",
       "      <td>AFC1</td>\n",
       "      <td>Alfombra de cama</td>\n",
       "      <td>Dormitorio</td>\n",
       "      <td>Alfombrín de cama círculos azules</td>\n",
       "      <td>150x72x1 (cm)</td>\n",
       "      <td>admin/img_prod/AFC1/AFC1-720x540.png</td>\n",
       "      <td>1</td>\n",
       "    </tr>\n",
       "    <tr>\n",
       "      <th>3</th>\n",
       "      <td>AP1</td>\n",
       "      <td>Aparador</td>\n",
       "      <td>Alemán  Comedor</td>\n",
       "      <td>Aparador alemán 2 cuerpos</td>\n",
       "      <td>207x64x300 (cm)</td>\n",
       "      <td>admin/img_prod/AP1/AP1-720x540.png</td>\n",
       "      <td>1</td>\n",
       "    </tr>\n",
       "    <tr>\n",
       "      <th>4</th>\n",
       "      <td>AST1</td>\n",
       "      <td>Atrezzo astronomia</td>\n",
       "      <td>Astronomía</td>\n",
       "      <td>Pie de madera para astrolabio</td>\n",
       "      <td>78x78x130 (cm)</td>\n",
       "      <td>admin/img_prod/AST1/AST1-pie-720x540.png</td>\n",
       "      <td>1</td>\n",
       "    </tr>\n",
       "    <tr>\n",
       "      <th>...</th>\n",
       "      <td>...</td>\n",
       "      <td>...</td>\n",
       "      <td>...</td>\n",
       "      <td>...</td>\n",
       "      <td>...</td>\n",
       "      <td>...</td>\n",
       "      <td>...</td>\n",
       "    </tr>\n",
       "    <tr>\n",
       "      <th>43</th>\n",
       "      <td>TYV65</td>\n",
       "      <td>Televisores y vídeos</td>\n",
       "      <td>Televisor</td>\n",
       "      <td>Televisión caja gris Toshiba 18\"</td>\n",
       "      <td>62x46x43 (cm)</td>\n",
       "      <td>admin/img_prod/TYV65/TYV65-1-720x540.png</td>\n",
       "      <td>100</td>\n",
       "    </tr>\n",
       "    <tr>\n",
       "      <th>44</th>\n",
       "      <td>PV65</td>\n",
       "      <td>Pie de vela</td>\n",
       "      <td>Candelabro</td>\n",
       "      <td>Candelabro de hierro en línea 3 luces</td>\n",
       "      <td>0x0x0 (cm)</td>\n",
       "      <td>admin/img_prod/PV65/PV65-720x540.png</td>\n",
       "      <td>100</td>\n",
       "    </tr>\n",
       "    <tr>\n",
       "      <th>45</th>\n",
       "      <td>TP65</td>\n",
       "      <td>Tapices y estandartes</td>\n",
       "      <td>Salón</td>\n",
       "      <td>Tapiz bordado en terciopelo de una ciudad con ...</td>\n",
       "      <td>180x5x122 (cm)</td>\n",
       "      <td>admin/img_prod/TP65/TP65-720x540.png</td>\n",
       "      <td>100</td>\n",
       "    </tr>\n",
       "    <tr>\n",
       "      <th>46</th>\n",
       "      <td>PER65</td>\n",
       "      <td>Perchero</td>\n",
       "      <td>Recibidor  Italiano  Dormitorio</td>\n",
       "      <td>Perchero de colgar italiano formica crema y bo...</td>\n",
       "      <td>1x1x1 (cm)</td>\n",
       "      <td>admin/img_prod/PER65/PER65-1-720x540.png</td>\n",
       "      <td>100</td>\n",
       "    </tr>\n",
       "    <tr>\n",
       "      <th>47</th>\n",
       "      <td>AFC65</td>\n",
       "      <td>Alfombra de cama</td>\n",
       "      <td>Dormitorio</td>\n",
       "      <td>Alfombrín de cama verde y flores</td>\n",
       "      <td>120x60x1 (cm)</td>\n",
       "      <td>admin/img_prod/AFC65/AFC65-720x540.png</td>\n",
       "      <td>100</td>\n",
       "    </tr>\n",
       "  </tbody>\n",
       "</table>\n",
       "<p>4800 rows × 7 columns</p>\n",
       "</div>"
      ],
      "text/plain": [
       "     name               category                          section  \\\n",
       "0    ALF1               Alfombra                            Arabe   \n",
       "1    ADO1                Adornos                                    \n",
       "2    AFC1       Alfombra de cama                       Dormitorio   \n",
       "3     AP1               Aparador                  Alemán  Comedor   \n",
       "4    AST1     Atrezzo astronomia                       Astronomía   \n",
       "..    ...                    ...                              ...   \n",
       "43  TYV65   Televisores y vídeos                        Televisor   \n",
       "44   PV65            Pie de vela                       Candelabro   \n",
       "45   TP65  Tapices y estandartes                            Salón   \n",
       "46  PER65               Perchero  Recibidor  Italiano  Dormitorio   \n",
       "47  AFC65       Alfombra de cama                       Dormitorio   \n",
       "\n",
       "                                          description       dimensions  \\\n",
       "0   Alfombra persa marrón (tiene unas manchas que ...   460x340x1 (cm)   \n",
       "1                                 Vitrina con abanico   100x10x60 (cm)   \n",
       "2                   Alfombrín de cama círculos azules    150x72x1 (cm)   \n",
       "3                           Aparador alemán 2 cuerpos  207x64x300 (cm)   \n",
       "4                       Pie de madera para astrolabio   78x78x130 (cm)   \n",
       "..                                                ...              ...   \n",
       "43                   Televisión caja gris Toshiba 18\"    62x46x43 (cm)   \n",
       "44              Candelabro de hierro en línea 3 luces       0x0x0 (cm)   \n",
       "45  Tapiz bordado en terciopelo de una ciudad con ...   180x5x122 (cm)   \n",
       "46  Perchero de colgar italiano formica crema y bo...       1x1x1 (cm)   \n",
       "47                   Alfombrín de cama verde y flores    120x60x1 (cm)   \n",
       "\n",
       "                                       image  page  \n",
       "0       admin/img_prod/ALF1/ALF1-720x540.png     1  \n",
       "1       admin/img_prod/ADO1/ADO1-720x540.png     1  \n",
       "2       admin/img_prod/AFC1/AFC1-720x540.png     1  \n",
       "3         admin/img_prod/AP1/AP1-720x540.png     1  \n",
       "4   admin/img_prod/AST1/AST1-pie-720x540.png     1  \n",
       "..                                       ...   ...  \n",
       "43  admin/img_prod/TYV65/TYV65-1-720x540.png   100  \n",
       "44      admin/img_prod/PV65/PV65-720x540.png   100  \n",
       "45      admin/img_prod/TP65/TP65-720x540.png   100  \n",
       "46  admin/img_prod/PER65/PER65-1-720x540.png   100  \n",
       "47    admin/img_prod/AFC65/AFC65-720x540.png   100  \n",
       "\n",
       "[4800 rows x 7 columns]"
      ]
     },
     "execution_count": 5,
     "metadata": {},
     "output_type": "execute_result"
    }
   ],
   "source": [
    "atrezzo_extract_df"
   ]
  },
  {
   "cell_type": "code",
   "execution_count": 6,
   "metadata": {},
   "outputs": [
    {
     "data": {
      "text/html": [
       "<div>\n",
       "<style scoped>\n",
       "    .dataframe tbody tr th:only-of-type {\n",
       "        vertical-align: middle;\n",
       "    }\n",
       "\n",
       "    .dataframe tbody tr th {\n",
       "        vertical-align: top;\n",
       "    }\n",
       "\n",
       "    .dataframe thead th {\n",
       "        text-align: right;\n",
       "    }\n",
       "</style>\n",
       "<table border=\"1\" class=\"dataframe\">\n",
       "  <thead>\n",
       "    <tr style=\"text-align: right;\">\n",
       "      <th></th>\n",
       "      <th>name</th>\n",
       "      <th>category</th>\n",
       "      <th>section</th>\n",
       "      <th>description</th>\n",
       "      <th>image</th>\n",
       "      <th>page</th>\n",
       "      <th>length [cm]</th>\n",
       "      <th>depth [cm]</th>\n",
       "      <th>height [cm]</th>\n",
       "    </tr>\n",
       "  </thead>\n",
       "  <tbody>\n",
       "    <tr>\n",
       "      <th>0</th>\n",
       "      <td>ALF1</td>\n",
       "      <td>Alfombra</td>\n",
       "      <td>Arabe</td>\n",
       "      <td>Alfombra persa marrón (tiene unas manchas que ...</td>\n",
       "      <td>admin/img_prod/ALF1/ALF1-720x540.png</td>\n",
       "      <td>1</td>\n",
       "      <td>460</td>\n",
       "      <td>340</td>\n",
       "      <td>1</td>\n",
       "    </tr>\n",
       "    <tr>\n",
       "      <th>1</th>\n",
       "      <td>ADO1</td>\n",
       "      <td>Adornos</td>\n",
       "      <td></td>\n",
       "      <td>Vitrina con abanico</td>\n",
       "      <td>admin/img_prod/ADO1/ADO1-720x540.png</td>\n",
       "      <td>1</td>\n",
       "      <td>100</td>\n",
       "      <td>10</td>\n",
       "      <td>60</td>\n",
       "    </tr>\n",
       "    <tr>\n",
       "      <th>2</th>\n",
       "      <td>AFC1</td>\n",
       "      <td>Alfombra de cama</td>\n",
       "      <td>Dormitorio</td>\n",
       "      <td>Alfombrín de cama círculos azules</td>\n",
       "      <td>admin/img_prod/AFC1/AFC1-720x540.png</td>\n",
       "      <td>1</td>\n",
       "      <td>150</td>\n",
       "      <td>72</td>\n",
       "      <td>1</td>\n",
       "    </tr>\n",
       "    <tr>\n",
       "      <th>3</th>\n",
       "      <td>AP1</td>\n",
       "      <td>Aparador</td>\n",
       "      <td>Alemán  Comedor</td>\n",
       "      <td>Aparador alemán 2 cuerpos</td>\n",
       "      <td>admin/img_prod/AP1/AP1-720x540.png</td>\n",
       "      <td>1</td>\n",
       "      <td>207</td>\n",
       "      <td>64</td>\n",
       "      <td>300</td>\n",
       "    </tr>\n",
       "    <tr>\n",
       "      <th>4</th>\n",
       "      <td>AST1</td>\n",
       "      <td>Atrezzo astronomia</td>\n",
       "      <td>Astronomía</td>\n",
       "      <td>Pie de madera para astrolabio</td>\n",
       "      <td>admin/img_prod/AST1/AST1-pie-720x540.png</td>\n",
       "      <td>1</td>\n",
       "      <td>78</td>\n",
       "      <td>78</td>\n",
       "      <td>130</td>\n",
       "    </tr>\n",
       "    <tr>\n",
       "      <th>...</th>\n",
       "      <td>...</td>\n",
       "      <td>...</td>\n",
       "      <td>...</td>\n",
       "      <td>...</td>\n",
       "      <td>...</td>\n",
       "      <td>...</td>\n",
       "      <td>...</td>\n",
       "      <td>...</td>\n",
       "      <td>...</td>\n",
       "    </tr>\n",
       "    <tr>\n",
       "      <th>43</th>\n",
       "      <td>TYV65</td>\n",
       "      <td>Televisores y vídeos</td>\n",
       "      <td>Televisor</td>\n",
       "      <td>Televisión caja gris Toshiba 18\"</td>\n",
       "      <td>admin/img_prod/TYV65/TYV65-1-720x540.png</td>\n",
       "      <td>100</td>\n",
       "      <td>62</td>\n",
       "      <td>46</td>\n",
       "      <td>43</td>\n",
       "    </tr>\n",
       "    <tr>\n",
       "      <th>44</th>\n",
       "      <td>PV65</td>\n",
       "      <td>Pie de vela</td>\n",
       "      <td>Candelabro</td>\n",
       "      <td>Candelabro de hierro en línea 3 luces</td>\n",
       "      <td>admin/img_prod/PV65/PV65-720x540.png</td>\n",
       "      <td>100</td>\n",
       "      <td>0</td>\n",
       "      <td>0</td>\n",
       "      <td>0</td>\n",
       "    </tr>\n",
       "    <tr>\n",
       "      <th>45</th>\n",
       "      <td>TP65</td>\n",
       "      <td>Tapices y estandartes</td>\n",
       "      <td>Salón</td>\n",
       "      <td>Tapiz bordado en terciopelo de una ciudad con ...</td>\n",
       "      <td>admin/img_prod/TP65/TP65-720x540.png</td>\n",
       "      <td>100</td>\n",
       "      <td>180</td>\n",
       "      <td>5</td>\n",
       "      <td>122</td>\n",
       "    </tr>\n",
       "    <tr>\n",
       "      <th>46</th>\n",
       "      <td>PER65</td>\n",
       "      <td>Perchero</td>\n",
       "      <td>Recibidor  Italiano  Dormitorio</td>\n",
       "      <td>Perchero de colgar italiano formica crema y bo...</td>\n",
       "      <td>admin/img_prod/PER65/PER65-1-720x540.png</td>\n",
       "      <td>100</td>\n",
       "      <td>1</td>\n",
       "      <td>1</td>\n",
       "      <td>1</td>\n",
       "    </tr>\n",
       "    <tr>\n",
       "      <th>47</th>\n",
       "      <td>AFC65</td>\n",
       "      <td>Alfombra de cama</td>\n",
       "      <td>Dormitorio</td>\n",
       "      <td>Alfombrín de cama verde y flores</td>\n",
       "      <td>admin/img_prod/AFC65/AFC65-720x540.png</td>\n",
       "      <td>100</td>\n",
       "      <td>120</td>\n",
       "      <td>60</td>\n",
       "      <td>1</td>\n",
       "    </tr>\n",
       "  </tbody>\n",
       "</table>\n",
       "<p>4800 rows × 9 columns</p>\n",
       "</div>"
      ],
      "text/plain": [
       "     name               category                          section  \\\n",
       "0    ALF1               Alfombra                            Arabe   \n",
       "1    ADO1                Adornos                                    \n",
       "2    AFC1       Alfombra de cama                       Dormitorio   \n",
       "3     AP1               Aparador                  Alemán  Comedor   \n",
       "4    AST1     Atrezzo astronomia                       Astronomía   \n",
       "..    ...                    ...                              ...   \n",
       "43  TYV65   Televisores y vídeos                        Televisor   \n",
       "44   PV65            Pie de vela                       Candelabro   \n",
       "45   TP65  Tapices y estandartes                            Salón   \n",
       "46  PER65               Perchero  Recibidor  Italiano  Dormitorio   \n",
       "47  AFC65       Alfombra de cama                       Dormitorio   \n",
       "\n",
       "                                          description  \\\n",
       "0   Alfombra persa marrón (tiene unas manchas que ...   \n",
       "1                                 Vitrina con abanico   \n",
       "2                   Alfombrín de cama círculos azules   \n",
       "3                           Aparador alemán 2 cuerpos   \n",
       "4                       Pie de madera para astrolabio   \n",
       "..                                                ...   \n",
       "43                   Televisión caja gris Toshiba 18\"   \n",
       "44              Candelabro de hierro en línea 3 luces   \n",
       "45  Tapiz bordado en terciopelo de una ciudad con ...   \n",
       "46  Perchero de colgar italiano formica crema y bo...   \n",
       "47                   Alfombrín de cama verde y flores   \n",
       "\n",
       "                                       image  page length [cm] depth [cm]  \\\n",
       "0       admin/img_prod/ALF1/ALF1-720x540.png     1         460        340   \n",
       "1       admin/img_prod/ADO1/ADO1-720x540.png     1         100         10   \n",
       "2       admin/img_prod/AFC1/AFC1-720x540.png     1         150         72   \n",
       "3         admin/img_prod/AP1/AP1-720x540.png     1         207         64   \n",
       "4   admin/img_prod/AST1/AST1-pie-720x540.png     1          78         78   \n",
       "..                                       ...   ...         ...        ...   \n",
       "43  admin/img_prod/TYV65/TYV65-1-720x540.png   100          62         46   \n",
       "44      admin/img_prod/PV65/PV65-720x540.png   100           0          0   \n",
       "45      admin/img_prod/TP65/TP65-720x540.png   100         180          5   \n",
       "46  admin/img_prod/PER65/PER65-1-720x540.png   100           1          1   \n",
       "47    admin/img_prod/AFC65/AFC65-720x540.png   100         120         60   \n",
       "\n",
       "   height [cm]  \n",
       "0            1  \n",
       "1           60  \n",
       "2            1  \n",
       "3          300  \n",
       "4          130  \n",
       "..         ...  \n",
       "43          43  \n",
       "44           0  \n",
       "45         122  \n",
       "46           1  \n",
       "47           1  \n",
       "\n",
       "[4800 rows x 9 columns]"
      ]
     },
     "execution_count": 6,
     "metadata": {},
     "output_type": "execute_result"
    }
   ],
   "source": [
    "atrezzo_extract_df[\"dimensions\"] = atrezzo_extract_df[\"dimensions\"].str.replace(\" (cm)\",\"\")\n",
    "atrezzo_extract_df[[\"length [cm]\",\"depth [cm]\",\"height [cm]\"]] = atrezzo_extract_df[\"dimensions\"].str.split(\"x\",expand=True)\n",
    "atrezzo_extract_df.drop(columns=\"dimensions\",inplace=True)\n",
    "atrezzo_extract_df"
   ]
  },
  {
   "cell_type": "code",
   "execution_count": 7,
   "metadata": {},
   "outputs": [],
   "source": [
    "atrezzo_extract_df.to_csv(\"../data/atrezzo_processed.csv\")"
   ]
  },
  {
   "cell_type": "code",
   "execution_count": null,
   "metadata": {},
   "outputs": [],
   "source": []
  }
 ],
 "metadata": {
  "kernelspec": {
   "display_name": "Dia_1_-_APIs-z3LYkQm2",
   "language": "python",
   "name": "python3"
  },
  "language_info": {
   "codemirror_mode": {
    "name": "ipython",
    "version": 3
   },
   "file_extension": ".py",
   "mimetype": "text/x-python",
   "name": "python",
   "nbconvert_exporter": "python",
   "pygments_lexer": "ipython3",
   "version": "3.11.4"
  }
 },
 "nbformat": 4,
 "nbformat_minor": 2
}
